{
 "cells": [
  {
   "cell_type": "markdown",
   "metadata": {},
   "source": [
    "### DLTPy"
   ]
  },
  {
   "cell_type": "code",
   "execution_count": 20,
   "metadata": {},
   "outputs": [],
   "source": [
    "from result_proc import copy_results, clean_output\n",
    "from dltpy.preprocessing.pipeline import run_pipeline_manual\n",
    "from gh_query import load_json, gen_json_file, find_current_repos\n",
    "from dltpy.input_preparation.generate_df import CACHE, list_files, parse_df, gen_argument_df, filter_return_datapoints,\\\n",
    "    format_df, encode_types\n",
    "from dltpy.input_preparation.df_to_vec import process_datapoints, ParameterDatapoint, ReturnDatapoint\n",
    "from dltpy.input_preparation.embedder import Embedder\n",
    "from dltpy import config\n",
    "from gensim.models import Word2Vec\n",
    "from importlib import reload\n",
    "import os\n",
    "import pickle\n",
    "import re\n",
    "import pandas as pd\n",
    "import numpy as np"
   ]
  },
  {
   "cell_type": "markdown",
   "metadata": {},
   "source": [
    "### Cleaning"
   ]
  },
  {
   "cell_type": "code",
   "execution_count": null,
   "metadata": {},
   "outputs": [],
   "source": [
    "# Copying the results and cleaning the output of last run\n",
    "#copy_results('./output/reports/', './results/')\n",
    "\n",
    "# Delete all the files in the output folder\n",
    "clean_output('./output/')"
   ]
  },
  {
   "cell_type": "markdown",
   "metadata": {},
   "source": [
    "### Generate JSON file"
   ]
  },
  {
   "cell_type": "code",
   "execution_count": null,
   "metadata": {},
   "outputs": [],
   "source": [
    "# First, a JSON file from current repos should be created. See gen_json_file method in gh_query module.\n",
    "repos = load_json('./data/mypy-dependents-by-stars.json')\n",
    "\n",
    "gen_json_file('./data/py_500.json', repos, find_current_repos('./data/training_repos/', True))"
   ]
  },
  {
   "cell_type": "markdown",
   "metadata": {},
   "source": [
    "Loads selected repos"
   ]
  },
  {
   "cell_type": "code",
   "execution_count": null,
   "metadata": {},
   "outputs": [],
   "source": [
    "repos = load_json('./data/py_500.json')\n",
    "print(\"number of projects:\", len(repos))\n",
    "repos"
   ]
  },
  {
   "cell_type": "markdown",
   "metadata": {},
   "source": [
    "### Step 1:\n",
    "Extract natural language information and Preprocess functions"
   ]
  },
  {
   "cell_type": "code",
   "execution_count": null,
   "metadata": {},
   "outputs": [],
   "source": [
    "run_pipeline_manual(repos[:50], 12)"
   ]
  },
  {
   "cell_type": "markdown",
   "metadata": {},
   "source": [
    "Generates dataframe or loads an existing one"
   ]
  },
  {
   "cell_type": "code",
   "execution_count": 5,
   "metadata": {},
   "outputs": [
    {
     "name": "stdout",
     "output_type": "stream",
     "text": [
      "Loading cached copy\n"
     ]
    }
   ],
   "source": [
    "if CACHE and os.path.exists(config.DATA_FILE):\n",
    "    print(\"Loading cached copy\")\n",
    "    df = pd.read_csv(config.DATA_FILE)\n",
    "else:\n",
    "    DATA_FILES = list_files(config.DATA_FILES_DIR)\n",
    "    print(\"Found %d datafiles\" % len(DATA_FILES))\n",
    "    #print(DATA_FILES)\n",
    "    df = parse_df(DATA_FILES, batch_size=128)\n",
    "    print(\"Dataframe loaded writing it to CSV\")\n",
    "    df.to_csv(config.DATA_FILE, index=False)"
   ]
  },
  {
   "cell_type": "markdown",
   "metadata": {},
   "source": [
    "### Step 2:\n",
    "Extract parameter and return datapoints"
   ]
  },
  {
   "cell_type": "code",
   "execution_count": 6,
   "metadata": {},
   "outputs": [
    {
     "name": "stdout",
     "output_type": "stream",
     "text": [
      "0.0\n",
      "0.0020461153477066116\n",
      "0.004092230695413223\n",
      "0.006138346043119835\n",
      "0.008184461390826446\n",
      "0.010230576738533058\n",
      "0.01227669208623967\n",
      "0.014322807433946282\n",
      "0.016368922781652893\n",
      "0.018415038129359504\n",
      "0.020461153477066115\n",
      "0.022507268824772726\n",
      "0.02455338417247934\n",
      "0.026599499520185952\n",
      "0.028645614867892563\n",
      "0.030691730215599174\n",
      "0.032737845563305785\n",
      "0.0347839609110124\n",
      "0.03683007625871901\n",
      "0.03887619160642562\n",
      "0.04092230695413223\n",
      "0.042968422301838845\n",
      "0.04501453764954545\n",
      "0.04706065299725207\n",
      "0.04910676834495868\n",
      "0.05115288369266529\n",
      "0.053198999040371904\n",
      "0.05524511438807851\n",
      "0.057291229735785126\n",
      "0.059337345083491734\n",
      "0.06138346043119835\n",
      "0.06342957577890496\n",
      "0.06547569112661157\n",
      "0.06752180647431819\n",
      "0.0695679218220248\n",
      "0.0716140371697314\n",
      "0.07366015251743802\n",
      "0.07570626786514463\n",
      "0.07775238321285124\n",
      "0.07979849856055786\n",
      "0.08184461390826446\n",
      "0.08389072925597107\n",
      "0.08593684460367769\n",
      "0.0879829599513843\n",
      "0.0900290752990909\n",
      "0.09207519064679752\n",
      "0.09412130599450413\n",
      "0.09616742134221075\n",
      "0.09821353668991736\n",
      "0.10025965203762396\n",
      "0.10230576738533058\n",
      "0.1043518827330372\n",
      "0.10639799808074381\n",
      "0.10844411342845041\n",
      "0.11049022877615702\n",
      "0.11253634412386364\n",
      "0.11458245947157025\n",
      "0.11662857481927687\n",
      "0.11867469016698347\n",
      "0.12072080551469008\n",
      "0.1227669208623967\n",
      "0.12481303621010331\n",
      "0.1268591515578099\n",
      "0.12890526690551654\n",
      "0.13095138225322314\n",
      "0.13299749760092974\n",
      "0.13504361294863637\n",
      "0.13708972829634297\n",
      "0.1391358436440496\n",
      "0.1411819589917562\n",
      "0.1432280743394628\n",
      "0.14527418968716943\n",
      "0.14732030503487603\n",
      "0.14936642038258266\n",
      "0.15141253573028926\n",
      "0.15345865107799586\n",
      "0.1555047664257025\n",
      "0.1575508817734091\n",
      "0.15959699712111572\n",
      "0.16164311246882232\n",
      "0.16368922781652892\n",
      "0.16573534316423555\n",
      "0.16778145851194215\n",
      "0.16982757385964875\n",
      "0.17187368920735538\n",
      "0.17391980455506198\n",
      "0.1759659199027686\n",
      "0.1780120352504752\n",
      "0.1800581505981818\n",
      "0.18210426594588844\n",
      "0.18415038129359504\n",
      "0.18619649664130167\n",
      "0.18824261198900827\n",
      "0.19028872733671487\n",
      "0.1923348426844215\n",
      "0.1943809580321281\n",
      "0.19642707337983473\n",
      "0.19847318872754133\n",
      "0.20051930407524793\n",
      "0.20256541942295456\n",
      "0.20461153477066116\n",
      "0.20665765011836779\n",
      "0.2087037654660744\n",
      "0.210749880813781\n",
      "0.21279599616148762\n",
      "0.21484211150919422\n",
      "0.21688822685690082\n",
      "0.21893434220460745\n",
      "0.22098045755231405\n",
      "0.22302657290002068\n",
      "0.22507268824772728\n",
      "0.22711880359543388\n",
      "0.2291649189431405\n",
      "0.2312110342908471\n",
      "0.23325714963855373\n",
      "0.23530326498626034\n",
      "0.23734938033396694\n",
      "0.23939549568167356\n",
      "0.24144161102938017\n",
      "0.2434877263770868\n",
      "0.2455338417247934\n",
      "0.2475799570725\n",
      "0.24962607242020662\n",
      "0.2516721877679132\n",
      "0.2537183031156198\n",
      "0.2557644184633264\n",
      "0.2578105338110331\n",
      "0.2598566491587397\n",
      "0.2619027645064463\n",
      "0.2639488798541529\n",
      "0.2659949952018595\n",
      "0.26804111054956614\n",
      "0.27008722589727274\n",
      "0.27213334124497934\n",
      "0.27417945659268594\n",
      "0.27622557194039254\n",
      "0.2782716872880992\n",
      "0.2803178026358058\n",
      "0.2823639179835124\n",
      "0.284410033331219\n",
      "0.2864561486789256\n",
      "0.28850226402663226\n",
      "0.29054837937433886\n",
      "0.29259449472204546\n",
      "0.29464061006975206\n",
      "0.29668672541745866\n",
      "0.2987328407651653\n",
      "0.3007789561128719\n",
      "0.3028250714605785\n",
      "0.3048711868082851\n",
      "0.3069173021559917\n",
      "0.3089634175036984\n",
      "0.311009532851405\n",
      "0.3130556481991116\n",
      "0.3151017635468182\n",
      "0.3171478788945248\n",
      "0.31919399424223144\n",
      "0.32124010958993804\n",
      "0.32328622493764464\n",
      "0.32533234028535124\n",
      "0.32737845563305784\n",
      "0.3294245709807645\n",
      "0.3314706863284711\n",
      "0.3335168016761777\n",
      "0.3355629170238843\n",
      "0.3376090323715909\n",
      "0.3396551477192975\n",
      "0.34170126306700416\n",
      "0.34374737841471076\n",
      "0.34579349376241736\n",
      "0.34783960911012396\n",
      "0.34988572445783056\n",
      "0.3519318398055372\n",
      "0.3539779551532438\n",
      "0.3560240705009504\n",
      "0.358070185848657\n",
      "0.3601163011963636\n",
      "0.3621624165440703\n",
      "0.3642085318917769\n",
      "0.3662546472394835\n",
      "0.3683007625871901\n",
      "0.3703468779348967\n",
      "0.37239299328260334\n",
      "0.37443910863030994\n",
      "0.37648522397801654\n",
      "0.37853133932572314\n",
      "0.38057745467342974\n",
      "0.3826235700211364\n",
      "0.384669685368843\n",
      "0.3867158007165496\n",
      "0.3887619160642562\n",
      "0.3908080314119628\n",
      "0.39285414675966945\n",
      "0.39490026210737605\n",
      "0.39694637745508266\n",
      "0.39899249280278926\n",
      "0.40103860815049586\n",
      "0.4030847234982025\n",
      "0.4051308388459091\n",
      "0.4071769541936157\n",
      "0.4092230695413223\n",
      "0.4112691848890289\n",
      "0.41331530023673557\n",
      "0.4153614155844422\n",
      "0.4174075309321488\n",
      "0.4194536462798554\n",
      "0.421499761627562\n",
      "0.42354587697526863\n",
      "0.42559199232297523\n",
      "0.42763810767068183\n",
      "0.42968422301838843\n",
      "0.43173033836609503\n",
      "0.43377645371380164\n",
      "0.4358225690615083\n",
      "0.4378686844092149\n",
      "0.4399147997569215\n",
      "0.4419609151046281\n",
      "0.4440070304523347\n",
      "0.44605314580004135\n",
      "0.44809926114774795\n",
      "0.45014537649545455\n",
      "0.45219149184316115\n",
      "0.45423760719086775\n",
      "0.4562837225385744\n",
      "0.458329837886281\n",
      "0.4603759532339876\n",
      "0.4624220685816942\n",
      "0.4644681839294008\n",
      "0.46651429927710747\n",
      "0.46856041462481407\n",
      "0.47060652997252067\n",
      "0.47265264532022727\n",
      "0.4746987606679339\n",
      "0.47674487601564053\n",
      "0.47879099136334713\n",
      "0.48083710671105373\n",
      "0.48288322205876033\n",
      "0.48492933740646693\n",
      "0.4869754527541736\n",
      "0.4890215681018802\n",
      "0.4910676834495868\n",
      "0.4931137987972934\n",
      "0.495159914145\n",
      "0.49720602949270665\n",
      "0.49925214484041325\n",
      "0.5012982601881198\n",
      "0.5033443755358264\n",
      "0.505390490883533\n",
      "0.5074366062312397\n",
      "0.5094827215789463\n",
      "0.5115288369266529\n",
      "0.5135749522743596\n",
      "0.5156210676220662\n",
      "0.5176671829697728\n",
      "0.5197132983174794\n",
      "0.521759413665186\n",
      "0.5238055290128926\n",
      "0.5258516443605992\n",
      "0.5278977597083058\n",
      "0.5299438750560124\n",
      "0.531989990403719\n",
      "0.5340361057514257\n",
      "0.5360822210991323\n",
      "0.5381283364468389\n",
      "0.5401744517945455\n",
      "0.5422205671422521\n",
      "0.5442666824899587\n",
      "0.5463127978376653\n",
      "0.5483589131853719\n",
      "0.5504050285330785\n",
      "0.5524511438807851\n",
      "0.5544972592284918\n",
      "0.5565433745761984\n",
      "0.558589489923905\n",
      "0.5606356052716116\n",
      "0.5626817206193182\n",
      "0.5647278359670248\n",
      "0.5667739513147314\n",
      "0.568820066662438\n",
      "0.5708661820101446\n",
      "0.5729122973578512\n",
      "0.5749584127055578\n",
      "0.5770045280532645\n",
      "0.5790506434009711\n",
      "0.5810967587486777\n",
      "0.5831428740963843\n",
      "0.5851889894440909\n",
      "0.5872351047917975\n",
      "0.5892812201395041\n",
      "0.5913273354872107\n",
      "0.5933734508349173\n",
      "0.5954195661826239\n",
      "0.5974656815303306\n",
      "0.5995117968780372\n",
      "0.6015579122257438\n",
      "0.6036040275734504\n",
      "0.605650142921157\n",
      "0.6076962582688636\n",
      "0.6097423736165702\n",
      "0.6117884889642768\n",
      "0.6138346043119834\n",
      "0.61588071965969\n",
      "0.6179268350073968\n",
      "0.6199729503551034\n",
      "0.62201906570281\n",
      "0.6240651810505166\n",
      "0.6261112963982232\n",
      "0.6281574117459298\n",
      "0.6302035270936364\n",
      "0.632249642441343\n",
      "0.6342957577890496\n",
      "0.6363418731367562\n",
      "0.6383879884844629\n",
      "0.6404341038321695\n",
      "0.6424802191798761\n",
      "0.6445263345275827\n",
      "0.6465724498752893\n",
      "0.6486185652229959\n",
      "0.6506646805707025\n",
      "0.6527107959184091\n",
      "0.6547569112661157\n",
      "0.6568030266138223\n",
      "0.658849141961529\n",
      "0.6608952573092356\n",
      "0.6629413726569422\n",
      "0.6649874880046488\n",
      "0.6670336033523554\n",
      "0.669079718700062\n",
      "0.6711258340477686\n",
      "0.6731719493954752\n",
      "0.6752180647431818\n",
      "0.6772641800908884\n",
      "0.679310295438595\n",
      "0.6813564107863017\n",
      "0.6834025261340083\n",
      "0.6854486414817149\n",
      "0.6874947568294215\n",
      "0.6895408721771281\n",
      "0.6915869875248347\n",
      "0.6936331028725413\n",
      "0.6956792182202479\n",
      "0.6977253335679545\n",
      "0.6997714489156611\n",
      "0.7018175642633678\n",
      "0.7038636796110744\n",
      "0.705909794958781\n",
      "0.7079559103064876\n",
      "0.7100020256541942\n",
      "0.7120481410019008\n",
      "0.7140942563496074\n",
      "0.716140371697314\n",
      "0.7181864870450206\n",
      "0.7202326023927272\n",
      "0.722278717740434\n",
      "0.7243248330881406\n",
      "0.7263709484358472\n",
      "0.7284170637835538\n",
      "0.7304631791312604\n",
      "0.732509294478967\n",
      "0.7345554098266736\n",
      "0.7366015251743802\n",
      "0.7386476405220868\n",
      "0.7406937558697934\n",
      "0.7427398712175001\n",
      "0.7447859865652067\n",
      "0.7468321019129133\n",
      "0.7488782172606199\n",
      "0.7509243326083265\n",
      "0.7529704479560331\n",
      "0.7550165633037397\n",
      "0.7570626786514463\n",
      "0.7591087939991529\n",
      "0.7611549093468595\n",
      "0.7632010246945661\n",
      "0.7652471400422728\n",
      "0.7672932553899794\n",
      "0.769339370737686\n",
      "0.7713854860853926\n",
      "0.7734316014330992\n",
      "0.7754777167808058\n",
      "0.7775238321285124\n",
      "0.779569947476219\n",
      "0.7816160628239256\n",
      "0.7836621781716322\n",
      "0.7857082935193389\n",
      "0.7877544088670455\n",
      "0.7898005242147521\n",
      "0.7918466395624587\n",
      "0.7938927549101653\n",
      "0.7959388702578719\n",
      "0.7979849856055785\n",
      "0.8000311009532851\n",
      "0.8020772163009917\n",
      "0.8041233316486983\n",
      "0.806169446996405\n",
      "0.8082155623441116\n",
      "0.8102616776918182\n",
      "0.8123077930395248\n",
      "0.8143539083872314\n",
      "0.816400023734938\n",
      "0.8184461390826446\n",
      "0.8204922544303512\n",
      "0.8225383697780578\n",
      "0.8245844851257644\n",
      "0.8266306004734711\n",
      "0.8286767158211777\n",
      "0.8307228311688843\n",
      "0.832768946516591\n",
      "0.8348150618642975\n",
      "0.8368611772120041\n",
      "0.8389072925597107\n",
      "0.8409534079074173\n",
      "0.842999523255124\n",
      "0.8450456386028306\n",
      "0.8470917539505373\n",
      "0.8491378692982439\n",
      "0.8511839846459505\n",
      "0.8532300999936571\n",
      "0.8552762153413637\n",
      "0.8573223306890703\n",
      "0.8593684460367769\n",
      "0.8614145613844835\n",
      "0.8634606767321901\n",
      "0.8655067920798967\n",
      "0.8675529074276033\n",
      "0.86959902277531\n"
     ]
    },
    {
     "name": "stdout",
     "output_type": "stream",
     "text": [
      "0.8716451381230166\n",
      "0.8736912534707232\n",
      "0.8757373688184298\n",
      "0.8777834841661364\n",
      "0.879829599513843\n",
      "0.8818757148615496\n",
      "0.8839218302092562\n",
      "0.8859679455569628\n",
      "0.8880140609046694\n",
      "0.8900601762523761\n",
      "0.8921062916000827\n",
      "0.8941524069477893\n",
      "0.8961985222954959\n",
      "0.8982446376432025\n",
      "0.9002907529909091\n",
      "0.9023368683386157\n",
      "0.9043829836863223\n",
      "0.9064290990340289\n",
      "0.9084752143817355\n",
      "0.9105213297294422\n",
      "0.9125674450771488\n",
      "0.9146135604248554\n",
      "0.916659675772562\n",
      "0.9187057911202686\n",
      "0.9207519064679752\n",
      "0.9227980218156818\n",
      "0.9248441371633884\n",
      "0.926890252511095\n",
      "0.9289363678588016\n",
      "0.9309824832065083\n",
      "0.9330285985542149\n",
      "0.9350747139019215\n",
      "0.9371208292496281\n",
      "0.9391669445973347\n",
      "0.9412130599450413\n",
      "0.9432591752927479\n",
      "0.9453052906404545\n",
      "0.9473514059881611\n",
      "0.9493975213358677\n",
      "0.9514436366835743\n",
      "0.9534897520312811\n",
      "0.9555358673789877\n",
      "0.9575819827266943\n",
      "0.9596280980744009\n",
      "0.9616742134221075\n",
      "0.9637203287698141\n",
      "0.9657664441175207\n",
      "0.9678125594652273\n",
      "0.9698586748129339\n",
      "0.9719047901606405\n",
      "0.9739509055083472\n",
      "0.9759970208560538\n",
      "0.9780431362037604\n",
      "0.980089251551467\n",
      "0.9821353668991736\n",
      "0.9841814822468802\n",
      "0.9862275975945868\n",
      "0.9882737129422934\n",
      "0.99031982829\n",
      "0.9923659436377066\n",
      "0.9944120589854133\n",
      "0.9964581743331199\n",
      "0.9985042896808265\n",
      "         func_name    arg_name        arg_type arg_comment\n",
      "0  filter queryset     request         Request            \n",
      "1  filter queryset    queryset        QuerySet            \n",
      "2  filter queryset        view  GenericViewSet            \n",
      "3        get field  field name             str            \n",
      "4        get field       model    models.Model            \n"
     ]
    }
   ],
   "source": [
    "df_params = gen_argument_df(df)\n",
    "print(df_params.head())"
   ]
  },
  {
   "cell_type": "markdown",
   "metadata": {},
   "source": [
    "Filter return datapoints"
   ]
  },
  {
   "cell_type": "code",
   "execution_count": 7,
   "metadata": {},
   "outputs": [
    {
     "name": "stdout",
     "output_type": "stream",
     "text": [
      "Functions before dropping on return type 488731\n",
      "Functions after dropping on return type 93003\n",
      "Functions before dropping nan, None, Any return type 93003\n",
      "Functions after dropping nan return type 54893\n",
      "Functions before dropping on empty return expression 54893\n",
      "Functions after dropping on empty return expression 50910\n"
     ]
    }
   ],
   "source": [
    "df = filter_return_datapoints(df)"
   ]
  },
  {
   "cell_type": "markdown",
   "metadata": {},
   "source": [
    "Format return datapoints"
   ]
  },
  {
   "cell_type": "code",
   "execution_count": 8,
   "metadata": {},
   "outputs": [],
   "source": [
    "df = format_df(df)"
   ]
  },
  {
   "cell_type": "markdown",
   "metadata": {},
   "source": [
    "Encode types as int"
   ]
  },
  {
   "cell_type": "code",
   "execution_count": 9,
   "metadata": {},
   "outputs": [
    {
     "name": "stdout",
     "output_type": "stream",
     "text": [
      "Found 15378 unique types in a total of 176328 types.\n",
      "Remapping uncommon types for functions\n",
      "Remapping uncommon types for arguments\n",
      "Fitting label encoder on transformed types\n",
      "Store type mapping with counts\n",
      "Transforming return types\n",
      "Transforming args types\n"
     ]
    }
   ],
   "source": [
    "df, df_params, label_encoder = encode_types(df, df_params)"
   ]
  },
  {
   "cell_type": "markdown",
   "metadata": {},
   "source": [
    "Storing label encoder"
   ]
  },
  {
   "cell_type": "code",
   "execution_count": 10,
   "metadata": {},
   "outputs": [],
   "source": [
    "with open(config.LABEL_ENCODER_PATH, 'wb') as file:\n",
    "    pickle.dump(label_encoder, file)"
   ]
  },
  {
   "cell_type": "markdown",
   "metadata": {},
   "source": [
    "Add argument names as a string except self"
   ]
  },
  {
   "cell_type": "code",
   "execution_count": 11,
   "metadata": {},
   "outputs": [],
   "source": [
    "df['arg_names_str'] = df['arg_names'].apply(lambda l: \" \".join([v for v in l if v != 'self']))"
   ]
  },
  {
   "cell_type": "markdown",
   "metadata": {},
   "source": [
    "Add return expressions as a string, replace self. and self within expressions"
   ]
  },
  {
   "cell_type": "code",
   "execution_count": 12,
   "metadata": {},
   "outputs": [],
   "source": [
    "df['return_expr_str'] = df['return_expr'].apply(lambda l: \" \".join([re.sub(r\"self\\.?\", '', v) for v in l]))"
   ]
  },
  {
   "cell_type": "markdown",
   "metadata": {},
   "source": [
    "Drop all columns useless for the ML algorithms"
   ]
  },
  {
   "cell_type": "code",
   "execution_count": 13,
   "metadata": {},
   "outputs": [],
   "source": [
    "df = df.drop(columns=['file', 'author', 'repo', 'has_type', 'arg_names', 'arg_types', 'arg_descrs', 'return_expr'])"
   ]
  },
  {
   "cell_type": "markdown",
   "metadata": {},
   "source": [
    "Store the dataframes"
   ]
  },
  {
   "cell_type": "code",
   "execution_count": 14,
   "metadata": {},
   "outputs": [],
   "source": [
    "df.to_csv(config.ML_RETURN_DF_PATH, index=False)\n",
    "df_params.to_csv(config.ML_PARAM_DF_PATH, index=False)"
   ]
  },
  {
   "cell_type": "markdown",
   "metadata": {},
   "source": [
    "### Step 3:\n",
    " Generate embeddings"
   ]
  },
  {
   "cell_type": "code",
   "execution_count": 15,
   "metadata": {
    "scrolled": true
   },
   "outputs": [
    {
     "name": "stdout",
     "output_type": "stream",
     "text": [
      "Number of func parameters: 16494\n",
      "Number of func returns 4183\n"
     ]
    }
   ],
   "source": [
    "param_df = pd.read_csv(config.ML_PARAM_DF_PATH)\n",
    "param_df = param_df.dropna()\n",
    "\n",
    "return_df = pd.read_csv(config.ML_RETURN_DF_PATH)\n",
    "return_df = return_df.dropna()\n",
    "\n",
    "print(\"Number of func parameters:\", param_df.shape[0])\n",
    "print(\"Number of func returns\", return_df.shape[0])"
   ]
  },
  {
   "cell_type": "markdown",
   "metadata": {},
   "source": [
    "Trains Word2Vec for both code and language"
   ]
  },
  {
   "cell_type": "code",
   "execution_count": 16,
   "metadata": {},
   "outputs": [
    {
     "name": "stdout",
     "output_type": "stream",
     "text": [
      "Time to build vocab: 0.01 mins\n",
      "Time to train model: 0.05 mins\n",
      "Time to build vocab: 0.01 mins\n",
      "Time to train model: 0.07 mins\n"
     ]
    }
   ],
   "source": [
    "embedder = Embedder(param_df, return_df)\n",
    "embedder.train_code_model()\n",
    "embedder.train_language_model()"
   ]
  },
  {
   "cell_type": "markdown",
   "metadata": {},
   "source": [
    "Loads pre-trained W2V models"
   ]
  },
  {
   "cell_type": "code",
   "execution_count": 17,
   "metadata": {},
   "outputs": [],
   "source": [
    "w2v_language_model = Word2Vec.load(config.W2V_MODEL_LANGUAGE_DIR)\n",
    "w2v_code_model = Word2Vec.load(config.W2V_MODEL_CODE_DIR)"
   ]
  },
  {
   "cell_type": "markdown",
   "metadata": {},
   "source": [
    "Stats of W2V models:"
   ]
  },
  {
   "cell_type": "code",
   "execution_count": 18,
   "metadata": {},
   "outputs": [
    {
     "name": "stdout",
     "output_type": "stream",
     "text": [
      "W2V statistics: \n",
      "W2V language model total amount of words : 160226\n",
      "W2V code model total amount of words : 54112\n",
      " \n",
      "Top 20 words for language model:\n",
      "['list', 'use', 'name', 'data', 'file', 'return', 'value', 'size', 'path', 'number', 'string', 'batch', 'shape', 'length', 'true', 'object', 'set', 'give', 'input', 'default']\n",
      "\n",
      " Top 20 words for code model:\n",
      "['name', 'get', 'data', 'id', 'source', 'path', 'length', 'state', 'type', 'key', 'to', 'encode', 'target', 'value', 'in', 'max', 'file', 'none', 'from', 'result']\n"
     ]
    }
   ],
   "source": [
    "print(\"W2V statistics: \")\n",
    "print(\"W2V language model total amount of words : \" + str(w2v_language_model.corpus_total_words))\n",
    "print(\"W2V code model total amount of words : \" + str(w2v_code_model.corpus_total_words))\n",
    "print(\" \")\n",
    "print(\"Top 20 words for language model:\")\n",
    "print(w2v_language_model.wv.index_to_key[:20])\n",
    "print(\"\\n Top 20 words for code model:\")\n",
    "print(w2v_code_model.wv.index_to_key[:20])"
   ]
  },
  {
   "cell_type": "markdown",
   "metadata": {},
   "source": [
    "### Step 4:\n",
    "Vector Representation"
   ]
  },
  {
   "cell_type": "markdown",
   "metadata": {},
   "source": [
    "Process parameter datapoints"
   ]
  },
  {
   "cell_type": "code",
   "execution_count": 21,
   "metadata": {},
   "outputs": [
    {
     "name": "stdout",
     "output_type": "stream",
     "text": [
      "Generating input vectors for param datapoints\n"
     ]
    }
   ],
   "source": [
    "param_datapoints_result_x, param_datapoints_result_y = process_datapoints(\n",
    "        config.ML_PARAM_DF_PATH,\n",
    "        'param',\n",
    "        lambda row: ParameterDatapoint(row.arg_name, row.arg_comment, row.arg_type_enc)\n",
    "    )"
   ]
  },
  {
   "cell_type": "markdown",
   "metadata": {},
   "source": [
    "Process returns datapoints"
   ]
  },
  {
   "cell_type": "code",
   "execution_count": 22,
   "metadata": {},
   "outputs": [
    {
     "name": "stdout",
     "output_type": "stream",
     "text": [
      "Generating input vectors for return datapoints\n"
     ]
    }
   ],
   "source": [
    "return_datapoints_result_x, return_datapoints_result_y = process_datapoints(\n",
    "        config.ML_RETURN_DF_PATH,\n",
    "        'return',\n",
    "        lambda row: ReturnDatapoint(row['name'], row.func_descr if row.func_descr is str else row.docstring,\n",
    "                                    row.return_descr, row.return_expr_str, row.arg_names_str, row.return_type_enc),\n",
    "    )"
   ]
  },
  {
   "cell_type": "markdown",
   "metadata": {},
   "source": [
    "### Step 5:\n",
    "Learning step"
   ]
  },
  {
   "cell_type": "code",
   "execution_count": 46,
   "metadata": {},
   "outputs": [],
   "source": [
    "from dltpy.learning import learn\n",
    "reload(learn)\n",
    "from dltpy.learning.learn import *"
   ]
  },
  {
   "cell_type": "markdown",
   "metadata": {},
   "source": [
    "Parameters"
   ]
  },
  {
   "cell_type": "code",
   "execution_count": 51,
   "metadata": {},
   "outputs": [],
   "source": [
    "top_n_pred = [1, 3, 5]\n",
    "models = [learn.load_m3]\n",
    "n_repetitions = 1"
   ]
  },
  {
   "cell_type": "markdown",
   "metadata": {},
   "source": [
    "Loads datapoints"
   ]
  },
  {
   "cell_type": "code",
   "execution_count": 62,
   "metadata": {},
   "outputs": [],
   "source": [
    "RETURN_DATAPOINTS_X, RETURN_DATAPOINTS_Y, PARAM_DATAPOINTS_X, PARAM_DATAPOINTS_Y = get_datapoints(dataset)\n",
    "\n",
    "Xr, yr = load_data_tensors(RETURN_DATAPOINTS_X, RETURN_DATAPOINTS_Y, limit=-1)\n",
    "Xp, yp = load_data_tensors(PARAM_DATAPOINTS_X, PARAM_DATAPOINTS_Y, limit=-1)\n",
    "\n",
    "X_comb = torch.cat((Xp, Xr))\n",
    "y_comb = torch.cat((yp, yr))"
   ]
  },
  {
   "cell_type": "markdown",
   "metadata": {},
   "source": [
    "Datasets"
   ]
  },
  {
   "cell_type": "code",
   "execution_count": 64,
   "metadata": {},
   "outputs": [],
   "source": [
    "datasets = {'combined': (X_comb, y_comb), 'return': (Xr, yr), 'argument': (Xp, yp)}"
   ]
  },
  {
   "cell_type": "code",
   "execution_count": 65,
   "metadata": {},
   "outputs": [
    {
     "name": "stdout",
     "output_type": "stream",
     "text": [
      "Training for:  combined\n",
      "Number of samples: 176326\n",
      "Number of features: 55\n",
      "-- Model Loaded: BiRNN(\n",
      "  (dropout): Dropout(p=0.2, inplace=False)\n",
      "  (lstm): LSTM(14, 128, batch_first=True, bidirectional=True)\n",
      "  (linear): Linear(in_features=256, out_features=1000, bias=True)\n",
      ") with 404456 parameters.\n",
      "Epoch [1/25], Batch: [551/552], Loss:1.8067182302\n",
      "Epoch [2/25], Batch: [551/552], Loss:5.2159380913\n",
      "Epoch [3/25], Batch: [551/552], Loss:3.3707504272\n",
      "Epoch [4/25], Batch: [551/552], Loss:2.5699467659\n",
      "Epoch [5/25], Batch: [551/552], Loss:1.2988570929\n",
      "Epoch [6/25], Batch: [551/552], Loss:3.6926841736\n",
      "Epoch [7/25], Batch: [551/552], Loss:2.0596747398\n",
      "Epoch [8/25], Batch: [551/552], Loss:4.2829332352\n",
      "Epoch [9/25], Batch: [551/552], Loss:4.6026277542\n",
      "Epoch [10/25], Batch: [551/552], Loss:1.4019877911\n",
      "Epoch [11/25], Batch: [551/552], Loss:2.8316431046\n",
      "Epoch [12/25], Batch: [551/552], Loss:1.8352476358\n",
      "Epoch [13/25], Batch: [551/552], Loss:2.0569000244\n",
      "Epoch [14/25], Batch: [551/552], Loss:2.5010826588\n",
      "Epoch [15/25], Batch: [551/552], Loss:1.3577660322\n",
      "Epoch [16/25], Batch: [551/552], Loss:1.1650944948\n",
      "Epoch [17/25], Batch: [551/552], Loss:3.1772031784\n",
      "Epoch [18/25], Batch: [551/552], Loss:2.1718473434\n",
      "Epoch [19/25], Batch: [551/552], Loss:2.2901453972\n",
      "Epoch [20/25], Batch: [551/552], Loss:1.0242644548\n",
      "Epoch [21/25], Batch: [551/552], Loss:1.5041290522\n",
      "Epoch [22/25], Batch: [551/552], Loss:3.1895930767\n",
      "Epoch [23/25], Batch: [551/552], Loss:1.8628185987\n",
      "Epoch [24/25], Batch: [551/552], Loss:0.2981977463\n",
      "Epoch [25/25], Batch: [551/552], Loss:1.3246136904\n",
      "Storing model!\n",
      "Training for:  return\n",
      "Number of samples: 50909\n",
      "Number of features: 55\n",
      "-- Model Loaded: BiRNN(\n",
      "  (dropout): Dropout(p=0.2, inplace=False)\n",
      "  (lstm): LSTM(14, 128, batch_first=True, bidirectional=True)\n",
      "  (linear): Linear(in_features=256, out_features=1000, bias=True)\n",
      ") with 404456 parameters.\n",
      "Epoch [1/25], Batch: [159/160], Loss:3.8004117012\n",
      "Epoch [2/25], Batch: [159/160], Loss:4.0729260445\n",
      "Epoch [3/25], Batch: [159/160], Loss:3.3124370575\n",
      "Epoch [4/25], Batch: [159/160], Loss:3.3461101055\n",
      "Epoch [5/25], Batch: [159/160], Loss:2.9237720966\n",
      "Epoch [6/25], Batch: [159/160], Loss:3.0556395054\n",
      "Epoch [7/25], Batch: [159/160], Loss:4.2682838440\n",
      "Epoch [8/25], Batch: [159/160], Loss:2.2615528107\n",
      "Epoch [9/25], Batch: [159/160], Loss:2.5449295044\n",
      "Epoch [10/25], Batch: [159/160], Loss:3.5306429863\n",
      "Epoch [11/25], Batch: [159/160], Loss:2.6818470955\n",
      "Epoch [12/25], Batch: [159/160], Loss:3.1128048897\n",
      "Epoch [13/25], Batch: [159/160], Loss:2.1520316601\n",
      "Epoch [14/25], Batch: [159/160], Loss:2.6895225048\n",
      "Epoch [15/25], Batch: [159/160], Loss:2.7659106255\n",
      "Epoch [16/25], Batch: [159/160], Loss:2.9788911343\n",
      "Epoch [17/25], Batch: [159/160], Loss:2.0507545471\n",
      "Epoch [18/25], Batch: [159/160], Loss:3.4365785122\n",
      "Epoch [19/25], Batch: [159/160], Loss:2.1704001427\n",
      "Epoch [20/25], Batch: [159/160], Loss:2.0012407303\n",
      "Epoch [21/25], Batch: [159/160], Loss:1.9824872017\n",
      "Epoch [22/25], Batch: [159/160], Loss:2.1242301464\n",
      "Epoch [23/25], Batch: [159/160], Loss:1.7187103033\n",
      "Epoch [24/25], Batch: [159/160], Loss:1.2146575451\n",
      "Epoch [25/25], Batch: [159/160], Loss:2.1819431782\n",
      "Storing model!\n",
      "Training for:  argument\n",
      "Number of samples: 125417\n",
      "Number of features: 55\n",
      "-- Model Loaded: BiRNN(\n",
      "  (dropout): Dropout(p=0.2, inplace=False)\n",
      "  (lstm): LSTM(14, 128, batch_first=True, bidirectional=True)\n",
      "  (linear): Linear(in_features=256, out_features=1000, bias=True)\n",
      ") with 404456 parameters.\n",
      "Epoch [1/25], Batch: [391/392], Loss:4.1231889725\n",
      "Epoch [2/25], Batch: [391/392], Loss:4.4111957550\n",
      "Epoch [3/25], Batch: [391/392], Loss:4.0324811935\n",
      "Epoch [4/25], Batch: [391/392], Loss:3.7969884872\n",
      "Epoch [5/25], Batch: [391/392], Loss:3.8505873680\n",
      "Epoch [6/25], Batch: [391/392], Loss:3.8257126808\n",
      "Epoch [7/25], Batch: [391/392], Loss:4.1242551804\n",
      "Epoch [8/25], Batch: [391/392], Loss:4.1127738953\n",
      "Epoch [9/25], Batch: [391/392], Loss:4.1121530533\n",
      "Epoch [10/25], Batch: [391/392], Loss:4.0516171455\n",
      "Epoch [11/25], Batch: [391/392], Loss:3.9969525337\n",
      "Epoch [12/25], Batch: [391/392], Loss:4.0592145920\n",
      "Epoch [13/25], Batch: [391/392], Loss:4.1410846710\n",
      "Epoch [14/25], Batch: [391/392], Loss:3.8238117695\n",
      "Epoch [15/25], Batch: [391/392], Loss:3.7476408482\n",
      "Epoch [16/25], Batch: [391/392], Loss:4.1046171188\n",
      "Epoch [17/25], Batch: [391/392], Loss:4.0076704025\n",
      "Epoch [18/25], Batch: [391/392], Loss:3.9176697731\n",
      "Epoch [19/25], Batch: [391/392], Loss:4.0708303452\n",
      "Epoch [20/25], Batch: [391/392], Loss:3.9291138649\n",
      "Epoch [21/25], Batch: [391/392], Loss:4.0112094879\n",
      "Epoch [22/25], Batch: [391/392], Loss:4.2256536484\n",
      "Epoch [23/25], Batch: [391/392], Loss:3.8397192955\n",
      "Epoch [24/25], Batch: [391/392], Loss:4.0695767403\n",
      "Epoch [25/25], Batch: [391/392], Loss:4.0340619087\n",
      "Storing model!\n"
     ]
    }
   ],
   "source": [
    "for d in datasets:\n",
    "    print(\"Training for: \", d)\n",
    "    X, y = datasets[d]\n",
    "\n",
    "    print(\"Number of samples:\", X.shape[0])\n",
    "    print(\"Number of features:\", X.shape[1])\n",
    "\n",
    "    for load_model in models:\n",
    "        for i in range(n_repetitions):\n",
    "            model, model_config = load_model()\n",
    "\n",
    "            print(f\"-- Model Loaded: {model} with {count_model_parameters(model)} parameters.\")\n",
    "\n",
    "            train_loader, test_loader = load_dataset(X, y, model_config['batch_size'], split=0.8)\n",
    "\n",
    "            # Start training\n",
    "            losses = train_loop(model, train_loader, model_config, model_store_dir=f\"{load_model.__name__}/{dataset}/{i}\"+str(int(time.time())))\n",
    "\n",
    "            # print(\"-- Loading model\")\n",
    "            # model = load_model('1571306801/model_BiRNN_e_9_l_1.8179169893.h5')\n",
    "\n",
    "            # Evaluate model performance\n",
    "            y_true, y_pred = evaluate(model, test_loader, top_n=max(top_n_pred))\n",
    "\n",
    "            # If the prediction is \"other\" - ignore the result\n",
    "            idx_of_other = pickle.load(open(f'./output/ml_inputs/label_encoder.pkl', 'rb')).transform(['other'])[0]\n",
    "            idx = (y_true != idx_of_other) & (y_pred[:, 0] != idx_of_other)\n",
    "\n",
    "            for top_n in top_n_pred:\n",
    "                filename = f\"DLTPy_{d}_{i}_{top_n}\"\n",
    "                report(y_true, y_pred, top_n, y_true.shape[0], f\"{filename}_unfiltered\")\n",
    "                report(y_true[idx], y_pred[idx], top_n, y_true.shape[0], f\"{filename}_filtered\")\n",
    "\n",
    "            "
   ]
  },
  {
   "cell_type": "markdown",
   "metadata": {},
   "source": [
    "## Results"
   ]
  },
  {
   "cell_type": "code",
   "execution_count": 66,
   "metadata": {},
   "outputs": [
    {
     "data": {
      "text/plain": [
       "<module 'result_proc' from '/home/amir/projects/ML4SE/result_proc.py'>"
      ]
     },
     "execution_count": 66,
     "metadata": {},
     "output_type": "execute_result"
    }
   ],
   "source": [
    "import result_proc\n",
    "reload(result_proc)"
   ]
  },
  {
   "cell_type": "code",
   "execution_count": 72,
   "metadata": {},
   "outputs": [
    {
     "name": "stdout",
     "output_type": "stream",
     "text": [
      "['DLTPy_return_0_5_filtered.json', 'DLTPy_return_0_3_filtered.json', 'DLTPy_return_0_1_filtered.json']\n",
      "{'Top-5': {'recall': 0.37124337065409546, 'precision': 0.867370353373107, 'f1-score': 0.5199449793672628}, 'Top-3': {'recall': 0.3494401885680613, 'precision': 0.8164295548416705, 'f1-score': 0.4894085281980743}, 'Top-1': {'recall': 0.30652131211942646, 'precision': 0.716154199173933, 'f1-score': 0.4292984869325997}}\n"
     ]
    }
   ],
   "source": [
    "res = result_proc.eval_result('./output/reports/json/', 'DLTPy', 'return', 'filtered')"
   ]
  },
  {
   "cell_type": "code",
   "execution_count": 71,
   "metadata": {},
   "outputs": [
    {
     "data": {
      "image/png": "[encoded data removed]",
      "text/plain": [
       "<Figure size 432x288 with 1 Axes>"
      ]
     },
     "metadata": {
      "needs_background": "light"
     },
     "output_type": "display_data"
    },
    {
     "name": "stdout",
     "output_type": "stream",
     "text": [
      "['Top-5', 'Top-1', 'Top-3'] [39.893956306809116, 21.687131239036837, 31.845000797321] [47.87580135872165, 26.026217586833795, 38.21643861831404] [43.52194146044449, 23.659374592267213, 34.74100813291002]\n"
     ]
    }
   ],
   "source": [
    "result_proc.plot_result(res, \"DLTPy-CombinedPrediction\")"
   ]
  },
  {
   "cell_type": "code",
   "execution_count": null,
   "metadata": {},
   "outputs": [],
   "source": []
  }
 ],
 "metadata": {
  "kernelspec": {
   "display_name": "Python 3",
   "language": "python",
   "name": "python3"
  },
  "language_info": {
   "codemirror_mode": {
    "name": "ipython",
    "version": 3
   },
   "file_extension": ".py",
   "mimetype": "text/x-python",
   "name": "python",
   "nbconvert_exporter": "python",
   "pygments_lexer": "ipython3",
   "version": "3.7.5"
  }
 },
 "nbformat": 4,
 "nbformat_minor": 2
}
